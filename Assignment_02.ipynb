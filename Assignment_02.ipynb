{
 "cells": [
  {
   "cell_type": "markdown",
   "metadata": {},
   "source": [
    "# Assignment 02\n",
    "\n",
    "\n",
    "## Introduction to programming with R for data manipulation"
   ]
  },
  {
   "cell_type": "markdown",
   "metadata": {},
   "source": [
    "You can run R code in jupyter notebook. If you can't figure out how to do that, you can write your code using Rstudio and attach your code. Clearly idetnify the question number and the answer."
   ]
  },
  {
   "cell_type": "markdown",
   "metadata": {},
   "source": [
    "# Rubric"
   ]
  },
  {
   "cell_type": "markdown",
   "metadata": {},
   "source": [
    "- Rubric: 5 points\n",
    "- Exercise_1: 30 points\n",
    "- Exercise_2: 10 points\n",
    "- Exercise_3: 20 points\n",
    "- Exercise_4: 10 points\n",
    "- Exercise_5: 20 points\n",
    "- Exercise_6: 5\n"
   ]
  },
  {
   "cell_type": "markdown",
   "metadata": {},
   "source": [
    "## Code Quality\n",
    "\n",
    "The code that you write for this assignment will be given one overall grade for code quality, see our code quality rubric as a guide to what we are looking for. Also, for this course (and other MDS courses that use R), we are trying to follow the tidyverse code style. There is a guide you can refer too: http://style.tidyverse.org/\n",
    "\n",
    "Each code question will also be assessed for code accuracy (i.e., does it do what it is supposed to do?)"
   ]
  },
  {
   "cell_type": "markdown",
   "metadata": {},
   "source": [
    "## Table of contents\n",
    "\n",
    "1. [Exercise 1: Reading data into R](#Exercise-1:-Reading-data-into-R)\n",
    "\n",
    "2. [Exercise 2: Data wrangling with {dplyr}](#Exercise-2:-Data-wrangling-with-{dplyr})\n",
    "\n",
    "3. [Exercise 3: More data wrangling with {dplyr}](#Exercise-3:-More-data-wrangling-with-{dplyr})\n",
    "\n",
    "4. [Exercise 4: Tidying data with {tidyr}](#Exercise-4:-Tidying-data-with-{tidyr})\n",
    "\n",
    "5. [Exercise 5: Tidying more data with {tidyr}](#Exercise-5:-Tidying-more-data-with-{tidyr})\n",
    "\n",
    "6. [Exercise 6: Subsetting with base R](#Exercise-6:-Subsetting-with-base-R)\n"
   ]
  },
  {
   "cell_type": "markdown",
   "metadata": {},
   "source": [
    "Use the below libraries for this assignment."
   ]
  },
  {
   "cell_type": "code",
   "execution_count": 3,
   "metadata": {},
   "outputs": [],
   "source": [
    "library(canlang)\n",
    "library(readxl)\n",
    "library(repurrrsive)\n",
    "library(testthat)\n",
    "library(tidyverse)\n",
    "options(repr.matrix.max.rows = 10)"
   ]
  },
  {
   "cell_type": "markdown",
   "metadata": {},
   "source": [
    "## Exercise 1: Reading data into R\n",
    "\n",
    "Read the data files listed in the table below and and bind the names listed in the table to them. \n",
    "\n",
    "**Note - if the column names are missing from any data sets you need to add them yourself programmatically via R** (see `col_names` arguement of the `read_*` functions).\n",
    "\n",
    "\n",
    "| File  | Object name to bind to the data frame | File location |\n",
    "|---|---|----|\n",
    "| `abbotsford_lang.xlsx`  | `abbotsford` | `data` directory of this repo |\n",
    "| `calgary_lang.csv`  | `calgary`  | `data` directory of this repo |\n",
    "| `edmonton_lang.xlsx`  | `edmonton`  | https://github.com/ttimbers/canlang/blob/master/inst/extdata/edmonton_lang.xlsx?raw=true |\n",
    "|  `kelowna_lang.csv` | `kelowna`  | `data` directory of this repo |\n",
    "| `vancouver_lang.csv`  | `vancouver`  | `data` directory of this repo |\n",
    "| `victoria_lang.csv`  | `victoria`  | https://github.com/ttimbers/canlang/raw/master/inst/extdata/victoria_lang.tsv |\n",
    "\n",
    "> #### The data\n",
    "> The data you will be working with in this first exercise is language data from the 2016 Canadian Census for cities in Western Canada. If you are unfamiliar with Western Canadian geography, here's a map to help you start to get more familiar:\n",
    ">\n",
    "> <img src=\"https://www.canadatours.com/images/maps/Canada_W.gif\" width=500>\n",
    ">\n",
    "> *Image source: https://www.canadatours.com/canada_maps.cfm?#W*"
   ]
  },
  {
   "cell_type": "markdown",
   "metadata": {},
   "source": [
    "## Exercise 2: Data wrangling with {dplyr}\n",
    "\n",
    "You have loaded individual data sets for 6 Western Canadian cities above, but we have more data than that from the 2016 Canadian Census (the most recent Canadian Census, the next one is scheduled for 2021). The {[canlang](https://ttimbers.github.io/canlang/)} R data package has language and regional data for all census metropolitan areas in Canada!\n",
    "\n",
    "<img src=\"https://github.com/ttimbers/canlang/blob/master/man/figures/hex-canlang.png?raw=true\" width=100>"
   ]
  },
  {
   "cell_type": "markdown",
   "metadata": {},
   "source": [
    "For this exercise, we want you to use the {dplyr} functions you have already met in this course and the {canlang} R package `region_lang` data set to uncover the name of the Canadian census metropolitan area which has the second most number of people who claim that they language they speak most often at home is Mandarin. Return the region name as a **character vector of length 1** (i.e., make sure it is not a data frame with one value in it). Bind the name `mandarin2` to the final object you return.\n",
    "\n",
    "> Here's a map of Canada to help you see where the different Canadian census metropolitan areas are:\n",
    "> \n",
    "> <img src=\"https://www.mapsopensource.com/images/canada-cities-map.gif\" width=600>\n",
    ">\n",
    "> *Image source: https://www.mapsopensource.com/canada-cities-map.html*"
   ]
  },
  {
   "cell_type": "markdown",
   "metadata": {},
   "source": [
    "## Exercise 3: More data wrangling with {dplyr}"
   ]
  },
  {
   "cell_type": "markdown",
   "metadata": {},
   "source": [
    "For this exercise, we want you to choose a Canadian census metropolitan area from the {canlang} R package `region_lang` data set, and use the {dplyr} functions that you have already met in this course to find the top 5 languages spoken most often at home from that area. Your final result should be a data frame with two columns:\n",
    "1. `language`\n",
    "2. `perc_pop` \n",
    "\n",
    "The column `perc_pop` should be the percentage of the area's population who reported that they speak that language most often at home. You can find the population size for each Canadian census metropolitan area in the  {canlang} R package `region_data` data set. "
   ]
  },
  {
   "cell_type": "markdown",
   "metadata": {},
   "source": [
    "## Exercise 4: Tidying data with {tidyr}\n"
   ]
  },
  {
   "cell_type": "markdown",
   "metadata": {},
   "source": [
    "We're going to shift to a different data set to practice making data frames wider and longer, as the {canlang} data sets are already pretty tidy. Let's load a data set that is not tidy, because it is too wide for the statistical question being asked, and then use one of the {tidyr} functions to tidy it.\n",
    "\n",
    "This next data set that we will be looking at contains environmental data from 1914 to 2018. The data was collected by the DFO (Canada's Department of Fisheries and Oceans) at the Pacific Biological Station (Departure Bay). Daily sea surface temperatures were recorded. Original data source: http://www.pac.dfo-mpo.gc.ca/science/oceans/data-donnees/lightstations-phares/index-eng.html\n",
    "\n",
    "A statistical question we might be interested in answering with this data set is, has sea surface temperature been changing over time, and is there an association between time of year (i.e., month) and this change over time? Read the `departure_bay_temperature.csv` data set in from the `data` directory and decide what tidying you will have to do, and then get to work and tidy it! Bind the name `temps_tidy` to the tidy data frame you create."
   ]
  },
  {
   "cell_type": "markdown",
   "metadata": {},
   "source": [
    "- Let's take a look and see whether sea surface temperature been changing over time at Departure Bay, BC. Given that time of year is a factor that influences, plot this for each month separately."
   ]
  },
  {
   "cell_type": "markdown",
   "metadata": {},
   "source": [
    "## Exercise 5: Tidying more data with {tidyr}\n",
    "\n",
    "Use one of the {tidyr} functions to tidy the data that you will load in from the `language_diversity.csv` file located in the `data` directory. This data was collected to answer research questions, such as what factors are associated with language diversity (as measured by the number of languages spoken in a country).  Read the `language_diversity.csv` data set into R and decide what tidying you will have to do, and then get to work and tidy it! Bind the name `tidy_lang` to the tidy data frame you create.\n",
    "\n",
    "Data source: https://www.jvcasillas.com/untidydata/"
   ]
  },
  {
   "cell_type": "markdown",
   "metadata": {},
   "source": [
    "Now that we have this data in a tidy format, let's explore it and plot the number of languages spoken in each country in the data set against the country's population."
   ]
  },
  {
   "cell_type": "markdown",
   "metadata": {},
   "source": [
    "## Exercise 6: Subsetting with base R\n",
    "\n",
    "The {tidyverse} functions were written for manipulating data frames and vectors, but you now know that there are other types of objects in R. To work with these kinds of objects we need to know how to do subsetting using base R. Lets get some more practice doing this first with matrices! "
   ]
  },
  {
   "cell_type": "markdown",
   "metadata": {},
   "source": [
    "### Subsetting matrices\n",
    "\n",
    "Consider the matrix created below, subset a smaller matrix that is the 10 - 15 colums and 1 - 5 rows. Bind the name `small_matrix` to it:"
   ]
  },
  {
   "cell_type": "code",
   "execution_count": 26,
   "metadata": {},
   "outputs": [
    {
     "data": {
      "text/html": [
       "<table class=\"dataframe\">\n",
       "<caption>A matrix: 10 × 20 of type dbl</caption>\n",
       "<tbody>\n",
       "\t<tr><td> 2.938057</td><td> 6.5233139</td><td>11.135525330</td><td> 1.431066</td><td> 1.1601004</td><td>12.6860753</td><td>16.4134368</td><td>37.611580</td><td> 2.8760736</td><td>11.9359657</td><td>10.1429664</td><td> 3.7368253</td><td>14.1535378</td><td> 2.5883681</td><td> 1.70020847</td><td> 7.641389</td><td> 3.507495</td><td>27.733644</td><td> 0.7635843</td><td> 1.492056</td></tr>\n",
       "\t<tr><td>12.700502</td><td>13.8406351</td><td> 4.961900343</td><td>11.788127</td><td> 2.2866390</td><td>12.1997007</td><td> 3.7501219</td><td>25.521498</td><td> 0.3410495</td><td> 3.6322129</td><td> 1.4065676</td><td> 0.3350206</td><td> 0.3627339</td><td>18.7108811</td><td> 2.86708585</td><td> 7.827604</td><td> 8.398940</td><td>11.501245</td><td> 1.4928199</td><td> 5.637580</td></tr>\n",
       "\t<tr><td> 2.370036</td><td>13.3029784</td><td>10.784506729</td><td>17.122631</td><td> 2.6865893</td><td>17.6286187</td><td> 8.7758532</td><td>13.049184</td><td> 6.4395061</td><td>18.4997913</td><td> 7.9907373</td><td> 1.4970579</td><td> 8.0956285</td><td> 6.8583796</td><td> 8.32895351</td><td> 4.377994</td><td>40.051038</td><td> 8.110950</td><td> 3.8880998</td><td>39.920596</td></tr>\n",
       "\t<tr><td> 7.398545</td><td> 0.7938523</td><td>22.229445818</td><td> 1.575422</td><td> 0.6059261</td><td>14.6876833</td><td> 4.5239944</td><td> 8.346802</td><td>11.6813587</td><td>21.2545254</td><td> 0.2040772</td><td> 2.8268398</td><td>17.7621596</td><td> 0.2964559</td><td> 0.08151982</td><td> 9.872077</td><td>16.677610</td><td>41.162820</td><td>14.2382275</td><td>47.132323</td></tr>\n",
       "\t<tr><td>14.195153</td><td> 3.7895417</td><td> 0.008232868</td><td> 8.462461</td><td> 8.7432093</td><td>18.0210972</td><td> 1.1309803</td><td>10.524262</td><td>13.6747683</td><td>14.1242168</td><td> 0.5155448</td><td>18.2741893</td><td> 5.4473414</td><td> 2.3499926</td><td>14.54604977</td><td>25.113806</td><td> 3.571127</td><td>11.366806</td><td> 3.4441976</td><td> 2.572980</td></tr>\n",
       "\t<tr><td>12.656189</td><td> 7.5740144</td><td>11.622642902</td><td> 3.614166</td><td> 8.4369874</td><td>11.1485233</td><td> 3.6596141</td><td> 1.719779</td><td>17.3328534</td><td> 1.4198751</td><td>26.6164124</td><td>11.9498316</td><td> 0.2640172</td><td> 5.2254129</td><td> 1.49033928</td><td>15.709789</td><td> 1.919996</td><td>13.510032</td><td>14.9959522</td><td> 5.366673</td></tr>\n",
       "\t<tr><td>58.675191</td><td>19.6065916</td><td>45.720541661</td><td>56.452869</td><td>32.3882064</td><td> 5.9444357</td><td> 5.7199025</td><td>33.945311</td><td> 1.3362299</td><td> 0.3681266</td><td> 3.9765598</td><td> 5.0458668</td><td> 4.1642927</td><td>20.2440382</td><td> 4.38639193</td><td>30.591778</td><td>12.794629</td><td> 2.770155</td><td> 4.5837962</td><td>19.566883</td></tr>\n",
       "\t<tr><td> 2.404119</td><td>23.2537627</td><td> 1.538694979</td><td> 8.486318</td><td> 6.3638649</td><td> 0.1769528</td><td> 0.9452913</td><td> 3.676081</td><td>38.7291467</td><td> 4.1329050</td><td> 4.4178181</td><td>17.7528238</td><td> 4.1940696</td><td> 6.7261254</td><td> 1.18011127</td><td>22.963183</td><td>12.437981</td><td>22.577034</td><td>29.8337177</td><td> 1.638553</td></tr>\n",
       "\t<tr><td> 5.288280</td><td> 6.3678666</td><td> 1.561867743</td><td> 8.374958</td><td>26.4357742</td><td>18.5346461</td><td> 6.8387739</td><td> 6.605413</td><td> 0.2980290</td><td> 4.7021308</td><td>20.8172305</td><td> 8.8334537</td><td>13.5828541</td><td>21.4938658</td><td> 4.78286147</td><td>12.663138</td><td>14.105986</td><td>22.403308</td><td> 5.4939446</td><td>36.781060</td></tr>\n",
       "\t<tr><td> 4.876715</td><td> 1.1497813</td><td> 2.496821731</td><td>11.185452</td><td> 9.2018113</td><td> 4.9077449</td><td> 0.9648821</td><td> 2.156965</td><td> 2.6015399</td><td>13.9129809</td><td> 0.1818018</td><td>35.1253667</td><td> 2.3546730</td><td>16.9889198</td><td> 0.82372545</td><td>26.525397</td><td> 3.740227</td><td> 2.702319</td><td>12.9271982</td><td>11.044500</td></tr>\n",
       "</tbody>\n",
       "</table>\n"
      ],
      "text/latex": [
       "A matrix: 10 × 20 of type dbl\n",
       "\\begin{tabular}{llllllllllllllllllll}\n",
       "\t  2.938057 &  6.5233139 & 11.135525330 &  1.431066 &  1.1601004 & 12.6860753 & 16.4134368 & 37.611580 &  2.8760736 & 11.9359657 & 10.1429664 &  3.7368253 & 14.1535378 &  2.5883681 &  1.70020847 &  7.641389 &  3.507495 & 27.733644 &  0.7635843 &  1.492056\\\\\n",
       "\t 12.700502 & 13.8406351 &  4.961900343 & 11.788127 &  2.2866390 & 12.1997007 &  3.7501219 & 25.521498 &  0.3410495 &  3.6322129 &  1.4065676 &  0.3350206 &  0.3627339 & 18.7108811 &  2.86708585 &  7.827604 &  8.398940 & 11.501245 &  1.4928199 &  5.637580\\\\\n",
       "\t  2.370036 & 13.3029784 & 10.784506729 & 17.122631 &  2.6865893 & 17.6286187 &  8.7758532 & 13.049184 &  6.4395061 & 18.4997913 &  7.9907373 &  1.4970579 &  8.0956285 &  6.8583796 &  8.32895351 &  4.377994 & 40.051038 &  8.110950 &  3.8880998 & 39.920596\\\\\n",
       "\t  7.398545 &  0.7938523 & 22.229445818 &  1.575422 &  0.6059261 & 14.6876833 &  4.5239944 &  8.346802 & 11.6813587 & 21.2545254 &  0.2040772 &  2.8268398 & 17.7621596 &  0.2964559 &  0.08151982 &  9.872077 & 16.677610 & 41.162820 & 14.2382275 & 47.132323\\\\\n",
       "\t 14.195153 &  3.7895417 &  0.008232868 &  8.462461 &  8.7432093 & 18.0210972 &  1.1309803 & 10.524262 & 13.6747683 & 14.1242168 &  0.5155448 & 18.2741893 &  5.4473414 &  2.3499926 & 14.54604977 & 25.113806 &  3.571127 & 11.366806 &  3.4441976 &  2.572980\\\\\n",
       "\t 12.656189 &  7.5740144 & 11.622642902 &  3.614166 &  8.4369874 & 11.1485233 &  3.6596141 &  1.719779 & 17.3328534 &  1.4198751 & 26.6164124 & 11.9498316 &  0.2640172 &  5.2254129 &  1.49033928 & 15.709789 &  1.919996 & 13.510032 & 14.9959522 &  5.366673\\\\\n",
       "\t 58.675191 & 19.6065916 & 45.720541661 & 56.452869 & 32.3882064 &  5.9444357 &  5.7199025 & 33.945311 &  1.3362299 &  0.3681266 &  3.9765598 &  5.0458668 &  4.1642927 & 20.2440382 &  4.38639193 & 30.591778 & 12.794629 &  2.770155 &  4.5837962 & 19.566883\\\\\n",
       "\t  2.404119 & 23.2537627 &  1.538694979 &  8.486318 &  6.3638649 &  0.1769528 &  0.9452913 &  3.676081 & 38.7291467 &  4.1329050 &  4.4178181 & 17.7528238 &  4.1940696 &  6.7261254 &  1.18011127 & 22.963183 & 12.437981 & 22.577034 & 29.8337177 &  1.638553\\\\\n",
       "\t  5.288280 &  6.3678666 &  1.561867743 &  8.374958 & 26.4357742 & 18.5346461 &  6.8387739 &  6.605413 &  0.2980290 &  4.7021308 & 20.8172305 &  8.8334537 & 13.5828541 & 21.4938658 &  4.78286147 & 12.663138 & 14.105986 & 22.403308 &  5.4939446 & 36.781060\\\\\n",
       "\t  4.876715 &  1.1497813 &  2.496821731 & 11.185452 &  9.2018113 &  4.9077449 &  0.9648821 &  2.156965 &  2.6015399 & 13.9129809 &  0.1818018 & 35.1253667 &  2.3546730 & 16.9889198 &  0.82372545 & 26.525397 &  3.740227 &  2.702319 & 12.9271982 & 11.044500\\\\\n",
       "\\end{tabular}\n"
      ],
      "text/markdown": [
       "\n",
       "A matrix: 10 × 20 of type dbl\n",
       "\n",
       "|  2.938057 |  6.5233139 | 11.135525330 |  1.431066 |  1.1601004 | 12.6860753 | 16.4134368 | 37.611580 |  2.8760736 | 11.9359657 | 10.1429664 |  3.7368253 | 14.1535378 |  2.5883681 |  1.70020847 |  7.641389 |  3.507495 | 27.733644 |  0.7635843 |  1.492056 |\n",
       "| 12.700502 | 13.8406351 |  4.961900343 | 11.788127 |  2.2866390 | 12.1997007 |  3.7501219 | 25.521498 |  0.3410495 |  3.6322129 |  1.4065676 |  0.3350206 |  0.3627339 | 18.7108811 |  2.86708585 |  7.827604 |  8.398940 | 11.501245 |  1.4928199 |  5.637580 |\n",
       "|  2.370036 | 13.3029784 | 10.784506729 | 17.122631 |  2.6865893 | 17.6286187 |  8.7758532 | 13.049184 |  6.4395061 | 18.4997913 |  7.9907373 |  1.4970579 |  8.0956285 |  6.8583796 |  8.32895351 |  4.377994 | 40.051038 |  8.110950 |  3.8880998 | 39.920596 |\n",
       "|  7.398545 |  0.7938523 | 22.229445818 |  1.575422 |  0.6059261 | 14.6876833 |  4.5239944 |  8.346802 | 11.6813587 | 21.2545254 |  0.2040772 |  2.8268398 | 17.7621596 |  0.2964559 |  0.08151982 |  9.872077 | 16.677610 | 41.162820 | 14.2382275 | 47.132323 |\n",
       "| 14.195153 |  3.7895417 |  0.008232868 |  8.462461 |  8.7432093 | 18.0210972 |  1.1309803 | 10.524262 | 13.6747683 | 14.1242168 |  0.5155448 | 18.2741893 |  5.4473414 |  2.3499926 | 14.54604977 | 25.113806 |  3.571127 | 11.366806 |  3.4441976 |  2.572980 |\n",
       "| 12.656189 |  7.5740144 | 11.622642902 |  3.614166 |  8.4369874 | 11.1485233 |  3.6596141 |  1.719779 | 17.3328534 |  1.4198751 | 26.6164124 | 11.9498316 |  0.2640172 |  5.2254129 |  1.49033928 | 15.709789 |  1.919996 | 13.510032 | 14.9959522 |  5.366673 |\n",
       "| 58.675191 | 19.6065916 | 45.720541661 | 56.452869 | 32.3882064 |  5.9444357 |  5.7199025 | 33.945311 |  1.3362299 |  0.3681266 |  3.9765598 |  5.0458668 |  4.1642927 | 20.2440382 |  4.38639193 | 30.591778 | 12.794629 |  2.770155 |  4.5837962 | 19.566883 |\n",
       "|  2.404119 | 23.2537627 |  1.538694979 |  8.486318 |  6.3638649 |  0.1769528 |  0.9452913 |  3.676081 | 38.7291467 |  4.1329050 |  4.4178181 | 17.7528238 |  4.1940696 |  6.7261254 |  1.18011127 | 22.963183 | 12.437981 | 22.577034 | 29.8337177 |  1.638553 |\n",
       "|  5.288280 |  6.3678666 |  1.561867743 |  8.374958 | 26.4357742 | 18.5346461 |  6.8387739 |  6.605413 |  0.2980290 |  4.7021308 | 20.8172305 |  8.8334537 | 13.5828541 | 21.4938658 |  4.78286147 | 12.663138 | 14.105986 | 22.403308 |  5.4939446 | 36.781060 |\n",
       "|  4.876715 |  1.1497813 |  2.496821731 | 11.185452 |  9.2018113 |  4.9077449 |  0.9648821 |  2.156965 |  2.6015399 | 13.9129809 |  0.1818018 | 35.1253667 |  2.3546730 | 16.9889198 |  0.82372545 | 26.525397 |  3.740227 |  2.702319 | 12.9271982 | 11.044500 |\n",
       "\n"
      ],
      "text/plain": [
       "      [,1]      [,2]       [,3]         [,4]      [,5]       [,6]      \n",
       " [1,]  2.938057  6.5233139 11.135525330  1.431066  1.1601004 12.6860753\n",
       " [2,] 12.700502 13.8406351  4.961900343 11.788127  2.2866390 12.1997007\n",
       " [3,]  2.370036 13.3029784 10.784506729 17.122631  2.6865893 17.6286187\n",
       " [4,]  7.398545  0.7938523 22.229445818  1.575422  0.6059261 14.6876833\n",
       " [5,] 14.195153  3.7895417  0.008232868  8.462461  8.7432093 18.0210972\n",
       " [6,] 12.656189  7.5740144 11.622642902  3.614166  8.4369874 11.1485233\n",
       " [7,] 58.675191 19.6065916 45.720541661 56.452869 32.3882064  5.9444357\n",
       " [8,]  2.404119 23.2537627  1.538694979  8.486318  6.3638649  0.1769528\n",
       " [9,]  5.288280  6.3678666  1.561867743  8.374958 26.4357742 18.5346461\n",
       "[10,]  4.876715  1.1497813  2.496821731 11.185452  9.2018113  4.9077449\n",
       "      [,7]       [,8]      [,9]       [,10]      [,11]      [,12]     \n",
       " [1,] 16.4134368 37.611580  2.8760736 11.9359657 10.1429664  3.7368253\n",
       " [2,]  3.7501219 25.521498  0.3410495  3.6322129  1.4065676  0.3350206\n",
       " [3,]  8.7758532 13.049184  6.4395061 18.4997913  7.9907373  1.4970579\n",
       " [4,]  4.5239944  8.346802 11.6813587 21.2545254  0.2040772  2.8268398\n",
       " [5,]  1.1309803 10.524262 13.6747683 14.1242168  0.5155448 18.2741893\n",
       " [6,]  3.6596141  1.719779 17.3328534  1.4198751 26.6164124 11.9498316\n",
       " [7,]  5.7199025 33.945311  1.3362299  0.3681266  3.9765598  5.0458668\n",
       " [8,]  0.9452913  3.676081 38.7291467  4.1329050  4.4178181 17.7528238\n",
       " [9,]  6.8387739  6.605413  0.2980290  4.7021308 20.8172305  8.8334537\n",
       "[10,]  0.9648821  2.156965  2.6015399 13.9129809  0.1818018 35.1253667\n",
       "      [,13]      [,14]      [,15]       [,16]     [,17]     [,18]    \n",
       " [1,] 14.1535378  2.5883681  1.70020847  7.641389  3.507495 27.733644\n",
       " [2,]  0.3627339 18.7108811  2.86708585  7.827604  8.398940 11.501245\n",
       " [3,]  8.0956285  6.8583796  8.32895351  4.377994 40.051038  8.110950\n",
       " [4,] 17.7621596  0.2964559  0.08151982  9.872077 16.677610 41.162820\n",
       " [5,]  5.4473414  2.3499926 14.54604977 25.113806  3.571127 11.366806\n",
       " [6,]  0.2640172  5.2254129  1.49033928 15.709789  1.919996 13.510032\n",
       " [7,]  4.1642927 20.2440382  4.38639193 30.591778 12.794629  2.770155\n",
       " [8,]  4.1940696  6.7261254  1.18011127 22.963183 12.437981 22.577034\n",
       " [9,] 13.5828541 21.4938658  4.78286147 12.663138 14.105986 22.403308\n",
       "[10,]  2.3546730 16.9889198  0.82372545 26.525397  3.740227  2.702319\n",
       "      [,19]      [,20]    \n",
       " [1,]  0.7635843  1.492056\n",
       " [2,]  1.4928199  5.637580\n",
       " [3,]  3.8880998 39.920596\n",
       " [4,] 14.2382275 47.132323\n",
       " [5,]  3.4441976  2.572980\n",
       " [6,] 14.9959522  5.366673\n",
       " [7,]  4.5837962 19.566883\n",
       " [8,] 29.8337177  1.638553\n",
       " [9,]  5.4939446 36.781060\n",
       "[10,] 12.9271982 11.044500"
      ]
     },
     "metadata": {},
     "output_type": "display_data"
    }
   ],
   "source": [
    "set.seed(2020) # this makes the random number process below reproducible\n",
    "random_matrix <- matrix(rexp(200, rate=.1), ncol=20)\n",
    "random_matrix"
   ]
  },
  {
   "cell_type": "markdown",
   "metadata": {},
   "source": []
  },
  {
   "cell_type": "markdown",
   "metadata": {},
   "source": [
    "#### Reference\n",
    "This assignment is attributed from R programming course written by Tiffany Timbers"
   ]
  }
 ],
 "metadata": {
  "celltoolbar": "Create Assignment",
  "kernelspec": {
   "display_name": "R",
   "language": "R",
   "name": "ir"
  },
  "language_info": {
   "codemirror_mode": "r",
   "file_extension": ".r",
   "mimetype": "text/x-r-source",
   "name": "R",
   "pygments_lexer": "r",
   "version": "3.6.1"
  },
  "toc-autonumbering": true,
  "toc-showmarkdowntxt": true,
  "toc-showtags": true
 },
 "nbformat": 4,
 "nbformat_minor": 4
}
